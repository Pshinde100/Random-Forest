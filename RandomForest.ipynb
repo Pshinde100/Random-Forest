{
 "cells": [
  {
   "cell_type": "code",
   "execution_count": 54,
   "metadata": {},
   "outputs": [],
   "source": [
    "\n",
    "# import the libraries\n",
    "# --------------------\n",
    "import pandas as pd\n",
    "import statsmodels.api as sm\n",
    "from sklearn.tree import DecisionTreeClassifier as dtc\n",
    "from sklearn.model_selection import train_test_split\n",
    "from sklearn.metrics import accuracy_score\n",
    "# from sklearn.metrics import confusion_matrix\n",
    "from sklearn import tree\n",
    "from sklearn.externals.six import StringIO  # to view of decision tree\n",
    "from IPython.display import Image\n",
    "# !pip install pydotplus\n",
    "import seaborn as sns\n",
    "import pydotplus\n",
    "# !pip install pandas_ml\n",
    "from pandas_ml import ConfusionMatrix"
   ]
  },
  {
   "cell_type": "code",
   "execution_count": 2,
   "metadata": {},
   "outputs": [
    {
     "data": {
      "text/html": [
       "<div>\n",
       "<style scoped>\n",
       "    .dataframe tbody tr th:only-of-type {\n",
       "        vertical-align: middle;\n",
       "    }\n",
       "\n",
       "    .dataframe tbody tr th {\n",
       "        vertical-align: top;\n",
       "    }\n",
       "\n",
       "    .dataframe thead th {\n",
       "        text-align: right;\n",
       "    }\n",
       "</style>\n",
       "<table border=\"1\" class=\"dataframe\">\n",
       "  <thead>\n",
       "    <tr style=\"text-align: right;\">\n",
       "      <th></th>\n",
       "      <th>id</th>\n",
       "      <th>name</th>\n",
       "      <th>display_name</th>\n",
       "      <th>production_year</th>\n",
       "      <th>movie_sequel</th>\n",
       "      <th>creative_type</th>\n",
       "      <th>source</th>\n",
       "      <th>production_method</th>\n",
       "      <th>genre</th>\n",
       "      <th>language</th>\n",
       "      <th>board_rating_reason</th>\n",
       "      <th>movie_board_rating_display_name</th>\n",
       "      <th>movie_release_pattern_display_name</th>\n",
       "      <th>total</th>\n",
       "      <th>Category</th>\n",
       "    </tr>\n",
       "  </thead>\n",
       "  <tbody>\n",
       "    <tr>\n",
       "      <th>0</th>\n",
       "      <td>7950115</td>\n",
       "      <td>Avatar</td>\n",
       "      <td>Avatar</td>\n",
       "      <td>2009</td>\n",
       "      <td>0</td>\n",
       "      <td>Science Fiction</td>\n",
       "      <td>Original Screenplay</td>\n",
       "      <td>Animation/Live Action</td>\n",
       "      <td>Action</td>\n",
       "      <td>English</td>\n",
       "      <td>For intense epic battle sequences and warfare,...</td>\n",
       "      <td>PG-13</td>\n",
       "      <td>Wide</td>\n",
       "      <td>2784</td>\n",
       "      <td>9</td>\n",
       "    </tr>\n",
       "    <tr>\n",
       "      <th>1</th>\n",
       "      <td>50950115</td>\n",
       "      <td>Harry Potter and the Deathly Hallows: Part II</td>\n",
       "      <td>Harry Potter and the Deathly Hallows: Part II</td>\n",
       "      <td>2011</td>\n",
       "      <td>1</td>\n",
       "      <td>Fantasy</td>\n",
       "      <td>Based on Fiction Book/Short Story</td>\n",
       "      <td>Animation/Live Action</td>\n",
       "      <td>Adventure</td>\n",
       "      <td>English</td>\n",
       "      <td>for some sequences of intense action violence ...</td>\n",
       "      <td>PG-13</td>\n",
       "      <td>Wide</td>\n",
       "      <td>1328</td>\n",
       "      <td>9</td>\n",
       "    </tr>\n",
       "    <tr>\n",
       "      <th>2</th>\n",
       "      <td>119870115</td>\n",
       "      <td>Transformers 3</td>\n",
       "      <td>Transformers: Dark of the Moon</td>\n",
       "      <td>2011</td>\n",
       "      <td>1</td>\n",
       "      <td>Science Fiction</td>\n",
       "      <td>Based on TV</td>\n",
       "      <td>Animation/Live Action</td>\n",
       "      <td>Action</td>\n",
       "      <td>English</td>\n",
       "      <td>for intense prolonged sequences of sci-fi acti...</td>\n",
       "      <td>PG-13</td>\n",
       "      <td>Wide</td>\n",
       "      <td>1124</td>\n",
       "      <td>9</td>\n",
       "    </tr>\n",
       "    <tr>\n",
       "      <th>3</th>\n",
       "      <td>119590115</td>\n",
       "      <td>Toy Story 3</td>\n",
       "      <td>Toy Story 3</td>\n",
       "      <td>2010</td>\n",
       "      <td>1</td>\n",
       "      <td>Kids Fiction</td>\n",
       "      <td>Original Screenplay</td>\n",
       "      <td>Digital Animation</td>\n",
       "      <td>Adventure</td>\n",
       "      <td>English</td>\n",
       "      <td>General</td>\n",
       "      <td>G</td>\n",
       "      <td>Wide</td>\n",
       "      <td>1064</td>\n",
       "      <td>9</td>\n",
       "    </tr>\n",
       "    <tr>\n",
       "      <th>4</th>\n",
       "      <td>91700115</td>\n",
       "      <td>Pirates of the Caribbean 4</td>\n",
       "      <td>Pirates of the Caribbean: On Stranger Tides</td>\n",
       "      <td>2011</td>\n",
       "      <td>1</td>\n",
       "      <td>Fantasy</td>\n",
       "      <td>Based on Theme Park Ride</td>\n",
       "      <td>Live Action</td>\n",
       "      <td>Adventure</td>\n",
       "      <td>English</td>\n",
       "      <td>for intense sequences of action/adventure viol...</td>\n",
       "      <td>PG-13</td>\n",
       "      <td>Wide</td>\n",
       "      <td>1044</td>\n",
       "      <td>9</td>\n",
       "    </tr>\n",
       "  </tbody>\n",
       "</table>\n",
       "</div>"
      ],
      "text/plain": [
       "          id                                           name  \\\n",
       "0    7950115                                         Avatar   \n",
       "1   50950115  Harry Potter and the Deathly Hallows: Part II   \n",
       "2  119870115                                 Transformers 3   \n",
       "3  119590115                                    Toy Story 3   \n",
       "4   91700115                     Pirates of the Caribbean 4   \n",
       "\n",
       "                                    display_name  production_year  \\\n",
       "0                                         Avatar             2009   \n",
       "1  Harry Potter and the Deathly Hallows: Part II             2011   \n",
       "2                 Transformers: Dark of the Moon             2011   \n",
       "3                                    Toy Story 3             2010   \n",
       "4    Pirates of the Caribbean: On Stranger Tides             2011   \n",
       "\n",
       "   movie_sequel    creative_type                             source  \\\n",
       "0             0  Science Fiction                Original Screenplay   \n",
       "1             1          Fantasy  Based on Fiction Book/Short Story   \n",
       "2             1  Science Fiction                        Based on TV   \n",
       "3             1     Kids Fiction                Original Screenplay   \n",
       "4             1          Fantasy           Based on Theme Park Ride   \n",
       "\n",
       "       production_method      genre language  \\\n",
       "0  Animation/Live Action     Action  English   \n",
       "1  Animation/Live Action  Adventure  English   \n",
       "2  Animation/Live Action     Action  English   \n",
       "3      Digital Animation  Adventure  English   \n",
       "4            Live Action  Adventure  English   \n",
       "\n",
       "                                 board_rating_reason  \\\n",
       "0  For intense epic battle sequences and warfare,...   \n",
       "1  for some sequences of intense action violence ...   \n",
       "2  for intense prolonged sequences of sci-fi acti...   \n",
       "3                                            General   \n",
       "4  for intense sequences of action/adventure viol...   \n",
       "\n",
       "  movie_board_rating_display_name movie_release_pattern_display_name  total  \\\n",
       "0                           PG-13                               Wide   2784   \n",
       "1                           PG-13                               Wide   1328   \n",
       "2                           PG-13                               Wide   1124   \n",
       "3                               G                               Wide   1064   \n",
       "4                           PG-13                               Wide   1044   \n",
       "\n",
       "   Category  \n",
       "0         9  \n",
       "1         9  \n",
       "2         9  \n",
       "3         9  \n",
       "4         9  "
      ]
     },
     "execution_count": 2,
     "metadata": {},
     "output_type": "execute_result"
    }
   ],
   "source": [
    "movie = pd.read_csv(\"D:\\\\Imarticus\\\\Python\\\\movierating.csv\", encoding='cp1252')\n",
    "movie.head()"
   ]
  },
  {
   "cell_type": "code",
   "execution_count": 3,
   "metadata": {},
   "outputs": [
    {
     "data": {
      "text/plain": [
       "1196"
      ]
     },
     "execution_count": 3,
     "metadata": {},
     "output_type": "execute_result"
    }
   ],
   "source": [
    "# number of rows\n",
    "# --------------------\n",
    "len(movie)\n"
   ]
  },
  {
   "cell_type": "code",
   "execution_count": 4,
   "metadata": {},
   "outputs": [
    {
     "name": "stdout",
     "output_type": "stream",
     "text": [
      "['id', 'name', 'display_name', 'production_year', 'movie_sequel', 'creative_type', 'source', 'production_method', 'genre', 'language', 'board_rating_reason', 'movie_board_rating_display_name', 'movie_release_pattern_display_name', 'total', 'Category']\n"
     ]
    }
   ],
   "source": [
    "# print the columns\n",
    "# --------------------\n",
    "col = list(movie.columns)\n",
    "print(col)"
   ]
  },
  {
   "cell_type": "code",
   "execution_count": 5,
   "metadata": {},
   "outputs": [
    {
     "data": {
      "text/plain": [
       "(1196, 15)"
      ]
     },
     "execution_count": 5,
     "metadata": {},
     "output_type": "execute_result"
    }
   ],
   "source": [
    "\n",
    "# count of Rows and Columns\n",
    "# -------------------------\n",
    "movie.shape"
   ]
  },
  {
   "cell_type": "code",
   "execution_count": 6,
   "metadata": {},
   "outputs": [
    {
     "data": {
      "text/plain": [
       "id                                     int64\n",
       "name                                  object\n",
       "display_name                          object\n",
       "production_year                        int64\n",
       "movie_sequel                           int64\n",
       "creative_type                         object\n",
       "source                                object\n",
       "production_method                     object\n",
       "genre                                 object\n",
       "language                              object\n",
       "board_rating_reason                   object\n",
       "movie_board_rating_display_name       object\n",
       "movie_release_pattern_display_name    object\n",
       "total                                  int64\n",
       "Category                               int64\n",
       "dtype: object"
      ]
     },
     "execution_count": 6,
     "metadata": {},
     "output_type": "execute_result"
    }
   ],
   "source": [
    "# describe the dataset (R,C)\n",
    "# --------------------------\n",
    "movie.dtypes\n",
    "\n",
    "import numpy as np\n",
    "\n",
    "for c in cols:\n",
    "    if (np.issubdtype(movie[c].dtype,np.number) == False):\n",
    "        print(\"WARNING: Column '{}' has special characters\".format(c))\n",
    "\n",
    "    if (len(movie[c][movie[c].isnull()])) > 0:\n",
    "        print(\"WARNING: Column '{}' has NULL values\".format(c))\n",
    "\n",
    "    if (len(movie[c][movie[c] == 0])) > 0:\n",
    "        print(\"WARNING: Column '{}' has value = 0\".format(c))\n",
    "        "
   ]
  },
  {
   "cell_type": "code",
   "execution_count": 7,
   "metadata": {},
   "outputs": [
    {
     "name": "stdout",
     "output_type": "stream",
     "text": [
      "['id', 'name', 'display_name', 'production_year', 'movie_sequel', 'creative_type', 'source', 'production_method', 'genre', 'language', 'board_rating_reason', 'movie_board_rating_display_name', 'movie_release_pattern_display_name', 'total', 'Category']\n"
     ]
    }
   ],
   "source": [
    "# check for NULLS, blanks and zeroes\n",
    "# -------------------------------\n",
    "cols = list(movie.columns)\n",
    "\n",
    "print(cols)"
   ]
  },
  {
   "cell_type": "code",
   "execution_count": 8,
   "metadata": {},
   "outputs": [
    {
     "name": "stdout",
     "output_type": "stream",
     "text": [
      "WARNING: Column 'name' has special characters\n",
      "WARNING: Column 'display_name' has special characters\n",
      "WARNING: Column 'movie_sequel' has value = 0\n",
      "WARNING: Column 'creative_type' has special characters\n",
      "WARNING: Column 'source' has special characters\n",
      "WARNING: Column 'production_method' has special characters\n",
      "WARNING: Column 'genre' has special characters\n",
      "WARNING: Column 'language' has special characters\n",
      "WARNING: Column 'board_rating_reason' has special characters\n",
      "WARNING: Column 'movie_board_rating_display_name' has special characters\n",
      "WARNING: Column 'movie_release_pattern_display_name' has special characters\n"
     ]
    }
   ],
   "source": [
    "import numpy as np\n",
    "\n",
    "for c in cols:\n",
    "    if (np.issubdtype(movie[c].dtype,np.number) == False):\n",
    "        print(\"WARNING: Column '{}' has special characters\".format(c))\n",
    "\n",
    "    if (len(movie[c][movie[c].isnull()])) > 0:\n",
    "        print(\"WARNING: Column '{}' has NULL values\".format(c))\n",
    "\n",
    "    if (len(movie[c][movie[c] == 0])) > 0:\n",
    "        print(\"WARNING: Column '{}' has value = 0\".format(c))\n",
    "        "
   ]
  },
  {
   "cell_type": "code",
   "execution_count": 9,
   "metadata": {},
   "outputs": [
    {
     "name": "stdout",
     "output_type": "stream",
     "text": [
      "15\n",
      "                       id  production_year  movie_sequel     total  Category\n",
      "id               1.000000         0.537046     -0.002964 -0.073668 -0.081658\n",
      "production_year  0.537046         1.000000      0.032073  0.073020  0.067235\n",
      "movie_sequel    -0.002964         0.032073      1.000000  0.381807  0.339997\n",
      "total           -0.073668         0.073020      0.381807  1.000000  0.805497\n",
      "Category        -0.081658         0.067235      0.339997  0.805497  1.000000\n"
     ]
    }
   ],
   "source": [
    "# to find the correlation among variables (Multicollinearity)\n",
    "# ----------------------------------------------------------\n",
    "movie.corr()\n",
    "lencol=len(cols); print(lencol)\n",
    "cor = movie.iloc[:,0:lencol].corr()\n",
    "print(cor)"
   ]
  },
  {
   "cell_type": "code",
   "execution_count": 10,
   "metadata": {},
   "outputs": [
    {
     "data": {
      "text/plain": [
       "<matplotlib.axes._subplots.AxesSubplot at 0x2635c083e48>"
      ]
     },
     "execution_count": 10,
     "metadata": {},
     "output_type": "execute_result"
    },
    {
     "data": {
      "image/png": "[encoded data removed]",
      "text/plain": [
       "<Figure size 432x288 with 2 Axes>"
      ]
     },
     "metadata": {
      "needs_background": "light"
     },
     "output_type": "display_data"
    }
   ],
   "source": [
    "# correlation using visualization\n",
    "# -------------------------------\n",
    "# cor --> defined above as the correlation amongst the x-variables\n",
    "sns.heatmap(cor, xticklabels=cor.columns, yticklabels=cor.columns)\n"
   ]
  },
  {
   "cell_type": "code",
   "execution_count": 11,
   "metadata": {},
   "outputs": [],
   "source": [
    "# drop unwanted columns\n",
    "# --------------------\n",
    "movie = movie.drop(['id','display_name','name','board_rating_reason',],axis=1)"
   ]
  },
  {
   "cell_type": "code",
   "execution_count": 12,
   "metadata": {},
   "outputs": [
    {
     "data": {
      "text/plain": [
       "production_year                        int64\n",
       "movie_sequel                           int64\n",
       "creative_type                         object\n",
       "source                                object\n",
       "production_method                     object\n",
       "genre                                 object\n",
       "language                              object\n",
       "movie_board_rating_display_name       object\n",
       "movie_release_pattern_display_name    object\n",
       "total                                  int64\n",
       "Category                               int64\n",
       "dtype: object"
      ]
     },
     "execution_count": 12,
     "metadata": {},
     "output_type": "execute_result"
    }
   ],
   "source": [
    "# Get all the factor X-variables\n",
    "# --------------------------------------\n",
    "movie.dtypes\n"
   ]
  },
  {
   "cell_type": "code",
   "execution_count": 13,
   "metadata": {},
   "outputs": [
    {
     "name": "stdout",
     "output_type": "stream",
     "text": [
      "['creative_type' 'source' 'production_method' 'genre' 'language'\n",
      " 'movie_board_rating_display_name' 'movie_release_pattern_display_name']\n"
     ]
    }
   ],
   "source": [
    "\n",
    "factor_x = movie.select_dtypes(exclude=[\"int64\",\"float64\",\"category\"]).columns.values\n",
    "print(factor_x)"
   ]
  },
  {
   "cell_type": "code",
   "execution_count": 14,
   "metadata": {},
   "outputs": [
    {
     "name": "stdout",
     "output_type": "stream",
     "text": [
      "Factor variable = 'creative_type'\n",
      "['Science Fiction' 'Fantasy' 'Kids Fiction' 'Super Hero'\n",
      " 'Historical Fiction' 'Contemporary Fiction' 'Dramatization' 'Factual'\n",
      " 'Multiple Creative Types']\n",
      "***\n",
      "Factor variable = 'source'\n",
      "['Original Screenplay' 'Based on Fiction Book/Short Story' 'Based on TV'\n",
      " 'Based on Theme Park Ride' 'Based on Comic/Graphic Novel'\n",
      " 'Based on Factual Book/Article' 'Based on Musical or Opera'\n",
      " 'Based on Folk Tale/Legend/Fairytale' 'Spin-Off' 'Remake' 'Based on Game'\n",
      " 'Based on Toy' 'Based on Real Life Events' 'Based on Short Film'\n",
      " 'Based on Play' 'Compilation']\n",
      "***\n",
      "Factor variable = 'production_method'\n",
      "['Animation/Live Action' 'Digital Animation' 'Live Action'\n",
      " 'Hand Animation' 'Stop-Motion Animation' 'Multiple Production Methods']\n",
      "***\n",
      "Factor variable = 'genre'\n",
      "['Action' 'Adventure' 'Thriller/Suspense' 'Drama' 'Comedy' 'Musical'\n",
      " 'Horror' 'Romantic Comedy' 'Western' 'Documentary' 'Black Comedy'\n",
      " 'Concert/Performance' 'Multiple Genres']\n",
      "***\n",
      "Factor variable = 'language'\n",
      "['English' 'French' 'Japanese' 'Silent' 'Swedish' 'Hindi' 'Spanish'\n",
      " 'Farsi' 'Arabic' 'German' 'Portuguese' 'Polish' 'Danish' 'Italian'\n",
      " 'Hebrew' 'Norwegian']\n",
      "***\n",
      "Factor variable = 'movie_board_rating_display_name'\n",
      "['PG-13' 'G' 'PG' 'R' 'Not Rated' 'NC-17']\n",
      "***\n",
      "Factor variable = 'movie_release_pattern_display_name'\n",
      "['Wide' 'Expands Wide' 'Limited' 'Exclusive' 'IMAX' 'Special Engagement'\n",
      " 'Oscar Qualifying Run']\n",
      "***\n"
     ]
    }
   ],
   "source": [
    "# Unique values of all Factor variables\n",
    "# --------------------------------------\n",
    "for c in factor_x:\n",
    "    print(\"Factor variable = '\" + c + \"'\")\n",
    "    print(movie[c].unique())\n",
    "    print(\"***\")\n"
   ]
  },
  {
   "cell_type": "code",
   "execution_count": 15,
   "metadata": {},
   "outputs": [
    {
     "data": {
      "text/plain": [
       "production_year                          int64\n",
       "movie_sequel                             int64\n",
       "creative_type                         category\n",
       "source                                category\n",
       "production_method                     category\n",
       "genre                                 category\n",
       "language                              category\n",
       "movie_board_rating_display_name       category\n",
       "movie_release_pattern_display_name    category\n",
       "total                                    int64\n",
       "Category                                 int64\n",
       "dtype: object"
      ]
     },
     "execution_count": 15,
     "metadata": {},
     "output_type": "execute_result"
    }
   ],
   "source": [
    "# convert all X-categorical variables\n",
    "# ---------------------------------\n",
    "for c in factor_x:\n",
    "    movie[c] = movie[c].astype('category',copy=False)\n",
    "movie.dtypes\n"
   ]
  },
  {
   "cell_type": "code",
   "execution_count": 16,
   "metadata": {},
   "outputs": [
    {
     "name": "stdout",
     "output_type": "stream",
     "text": [
      "2010    267\n",
      "2009    252\n",
      "2007    238\n",
      "2008    229\n",
      "2011    210\n",
      "Name: production_year, dtype: int64\n",
      "0    1079\n",
      "1     117\n",
      "Name: movie_sequel, dtype: int64\n",
      "Contemporary Fiction       638\n",
      "Fantasy                    131\n",
      "Historical Fiction         100\n",
      "Dramatization               95\n",
      "Science Fiction             89\n",
      "Factual                     60\n",
      "Kids Fiction                59\n",
      "Super Hero                  20\n",
      "Multiple Creative Types      4\n",
      "Name: creative_type, dtype: int64\n",
      "Original Screenplay                    629\n",
      "Based on Fiction Book/Short Story      218\n",
      "Based on Real Life Events              128\n",
      "Remake                                  65\n",
      "Based on TV                             38\n",
      "Based on Comic/Graphic Novel            36\n",
      "Based on Factual Book/Article           23\n",
      "Based on Play                           21\n",
      "Based on Folk Tale/Legend/Fairytale     10\n",
      "Based on Game                            8\n",
      "Spin-Off                                 5\n",
      "Based on Short Film                      4\n",
      "Based on Musical or Opera                4\n",
      "Compilation                              3\n",
      "Based on Toy                             2\n",
      "Based on Theme Park Ride                 2\n",
      "Name: source, dtype: int64\n",
      "Live Action                    1093\n",
      "Digital Animation                53\n",
      "Animation/Live Action            36\n",
      "Hand Animation                    6\n",
      "Stop-Motion Animation             5\n",
      "Multiple Production Methods       3\n",
      "Name: production_method, dtype: int64\n",
      "Drama                  321\n",
      "Comedy                 260\n",
      "Thriller/Suspense      131\n",
      "Action                 124\n",
      "Adventure              107\n",
      "Romantic Comedy         80\n",
      "Horror                  74\n",
      "Documentary             54\n",
      "Musical                 12\n",
      "Black Comedy            12\n",
      "Multiple Genres          9\n",
      "Western                  6\n",
      "Concert/Performance      6\n",
      "Name: genre, dtype: int64\n",
      "English       1144\n",
      "Hindi           16\n",
      "French          14\n",
      "Spanish          6\n",
      "German           3\n",
      "Swedish          2\n",
      "Japanese         2\n",
      "Silent           1\n",
      "Portuguese       1\n",
      "Polish           1\n",
      "Norwegian        1\n",
      "Italian          1\n",
      "Hebrew           1\n",
      "Farsi            1\n",
      "Danish           1\n",
      "Arabic           1\n",
      "Name: language, dtype: int64\n",
      "R            448\n",
      "PG-13        441\n",
      "PG           182\n",
      "Not Rated     83\n",
      "G             39\n",
      "NC-17          3\n",
      "Name: movie_board_rating_display_name, dtype: int64\n",
      "Wide                    795\n",
      "Limited                 342\n",
      "Exclusive                30\n",
      "Expands Wide             21\n",
      "Oscar Qualifying Run      3\n",
      "IMAX                      3\n",
      "Special Engagement        2\n",
      "Name: movie_release_pattern_display_name, dtype: int64\n",
      "1      47\n",
      "2      43\n",
      "3      36\n",
      "5      31\n",
      "7      30\n",
      "4      28\n",
      "6      23\n",
      "12     21\n",
      "10     19\n",
      "13     18\n",
      "8      16\n",
      "31     16\n",
      "11     15\n",
      "15     15\n",
      "35     14\n",
      "17     13\n",
      "9      12\n",
      "14     12\n",
      "18     12\n",
      "19     12\n",
      "29     12\n",
      "27     11\n",
      "40     11\n",
      "38     11\n",
      "25     11\n",
      "24     10\n",
      "47     10\n",
      "44     10\n",
      "32     10\n",
      "50     10\n",
      "       ..\n",
      "320     1\n",
      "324     1\n",
      "329     1\n",
      "330     1\n",
      "337     1\n",
      "246     1\n",
      "340     1\n",
      "343     1\n",
      "350     1\n",
      "355     1\n",
      "359     1\n",
      "361     1\n",
      "312     1\n",
      "311     1\n",
      "308     1\n",
      "304     1\n",
      "302     1\n",
      "295     1\n",
      "289     1\n",
      "287     1\n",
      "281     1\n",
      "279     1\n",
      "277     1\n",
      "269     1\n",
      "268     1\n",
      "266     1\n",
      "260     1\n",
      "251     1\n",
      "247     1\n",
      "176     1\n",
      "Name: total, Length: 324, dtype: int64\n",
      "2    247\n",
      "3    245\n",
      "4    206\n",
      "1    168\n",
      "5    132\n",
      "6     80\n",
      "7     61\n",
      "8     38\n",
      "9     19\n",
      "Name: Category, dtype: int64\n"
     ]
    }
   ],
   "source": [
    "# get the counts of the classes\n",
    "# ----------------------------\n",
    "print(movie.production_year.value_counts())\n",
    "print(movie.movie_sequel.value_counts())\n",
    "print(movie.creative_type.value_counts())\n",
    "print(movie.source.value_counts())\n",
    "print(movie.production_method.value_counts())\n",
    "print(movie.genre.value_counts())\n",
    "print(movie.language.value_counts())\n",
    "print(movie.movie_board_rating_display_name.value_counts())\n",
    "print(movie.movie_release_pattern_display_name.value_counts())\n",
    "print(movie.total.value_counts())\n",
    "print(movie.Category.value_counts())\n"
   ]
  },
  {
   "cell_type": "code",
   "execution_count": 19,
   "metadata": {},
   "outputs": [
    {
     "data": {
      "text/plain": [
       "<matplotlib.axes._subplots.AxesSubplot at 0x2635c5ed0f0>"
      ]
     },
     "execution_count": 19,
     "metadata": {},
     "output_type": "execute_result"
    },
    {
     "data": {
      "image/png": "[encoded data removed]",
      "text/plain": [
       "<Figure size 432x288 with 1 Axes>"
      ]
     },
     "metadata": {
      "needs_background": "light"
     },
     "output_type": "display_data"
    }
   ],
   "source": [
    "# plot the Category\n",
    "# --------------------------------------\n",
    "sns.countplot(x='Category', data=movie, palette='hls')\n"
   ]
  },
  {
   "cell_type": "code",
   "execution_count": 20,
   "metadata": {},
   "outputs": [
    {
     "data": {
      "text/plain": [
       "<matplotlib.axes._subplots.AxesSubplot at 0x2635ccbdba8>"
      ]
     },
     "execution_count": 20,
     "metadata": {},
     "output_type": "execute_result"
    },
    {
     "data": {
      "image/png": "[encoded data removed]",
      "text/plain": [
       "<Figure size 432x288 with 1 Axes>"
      ]
     },
     "metadata": {
      "needs_background": "light"
     },
     "output_type": "display_data"
    }
   ],
   "source": [
    "sns.countplot(x='production_year', data=movie, palette='hls')\n",
    "\n"
   ]
  },
  {
   "cell_type": "code",
   "execution_count": 21,
   "metadata": {},
   "outputs": [
    {
     "data": {
      "text/plain": [
       "<matplotlib.axes._subplots.AxesSubplot at 0x2635ccdd470>"
      ]
     },
     "execution_count": 21,
     "metadata": {},
     "output_type": "execute_result"
    },
    {
     "data": {
      "image/png": "[encoded data removed]",
      "text/plain": [
       "<Figure size 432x288 with 1 Axes>"
      ]
     },
     "metadata": {
      "needs_background": "light"
     },
     "output_type": "display_data"
    }
   ],
   "source": [
    "sns.countplot(x='movie_sequel', data=movie, palette='hls')\n"
   ]
  },
  {
   "cell_type": "code",
   "execution_count": 22,
   "metadata": {},
   "outputs": [
    {
     "data": {
      "text/plain": [
       "<matplotlib.axes._subplots.AxesSubplot at 0x2635cca8780>"
      ]
     },
     "execution_count": 22,
     "metadata": {},
     "output_type": "execute_result"
    },
    {
     "data": {
      "image/png": "[encoded data removed]",
      "text/plain": [
       "<Figure size 432x288 with 1 Axes>"
      ]
     },
     "metadata": {
      "needs_background": "light"
     },
     "output_type": "display_data"
    }
   ],
   "source": [
    "sns.countplot(x='creative_type', data=movie, palette='hls')\n"
   ]
  },
  {
   "cell_type": "code",
   "execution_count": 23,
   "metadata": {},
   "outputs": [
    {
     "data": {
      "text/plain": [
       "<matplotlib.axes._subplots.AxesSubplot at 0x2635dd3bc18>"
      ]
     },
     "execution_count": 23,
     "metadata": {},
     "output_type": "execute_result"
    },
    {
     "data": {
      "image/png": "[encoded data removed]",
      "text/plain": [
       "<Figure size 432x288 with 1 Axes>"
      ]
     },
     "metadata": {
      "needs_background": "light"
     },
     "output_type": "display_data"
    }
   ],
   "source": [
    "sns.countplot(x='production_method', data=movie, palette='hls')\n",
    "\n"
   ]
  },
  {
   "cell_type": "code",
   "execution_count": 24,
   "metadata": {},
   "outputs": [
    {
     "data": {
      "text/plain": [
       "<matplotlib.axes._subplots.AxesSubplot at 0x2635c8ede80>"
      ]
     },
     "execution_count": 24,
     "metadata": {},
     "output_type": "execute_result"
    },
    {
     "data": {
      "image/png": "[encoded data removed]",
      "text/plain": [
       "<Figure size 432x288 with 1 Axes>"
      ]
     },
     "metadata": {
      "needs_background": "light"
     },
     "output_type": "display_data"
    }
   ],
   "source": [
    "sns.countplot(x='genre', data=movie, palette='hls')\n"
   ]
  },
  {
   "cell_type": "code",
   "execution_count": 25,
   "metadata": {},
   "outputs": [
    {
     "data": {
      "text/plain": [
       "<matplotlib.axes._subplots.AxesSubplot at 0x2635de2e5f8>"
      ]
     },
     "execution_count": 25,
     "metadata": {},
     "output_type": "execute_result"
    },
    {
     "data": {
      "image/png": "[encoded data removed]",
      "text/plain": [
       "<Figure size 432x288 with 1 Axes>"
      ]
     },
     "metadata": {
      "needs_background": "light"
     },
     "output_type": "display_data"
    }
   ],
   "source": [
    "sns.countplot(x='language', data=movie, palette='hls')\n"
   ]
  },
  {
   "cell_type": "code",
   "execution_count": 26,
   "metadata": {},
   "outputs": [
    {
     "data": {
      "text/plain": [
       "<matplotlib.axes._subplots.AxesSubplot at 0x2635debdf98>"
      ]
     },
     "execution_count": 26,
     "metadata": {},
     "output_type": "execute_result"
    },
    {
     "data": {
      "image/png": "[encoded data removed]",
      "text/plain": [
       "<Figure size 432x288 with 1 Axes>"
      ]
     },
     "metadata": {
      "needs_background": "light"
     },
     "output_type": "display_data"
    }
   ],
   "source": [
    "sns.countplot(x='movie_board_rating_display_name', data=movie, palette='hls')\n"
   ]
  },
  {
   "cell_type": "code",
   "execution_count": 29,
   "metadata": {},
   "outputs": [
    {
     "data": {
      "text/plain": [
       "<matplotlib.axes._subplots.AxesSubplot at 0x2635e8b0710>"
      ]
     },
     "execution_count": 29,
     "metadata": {},
     "output_type": "execute_result"
    },
    {
     "data": {
      "image/png": "[encoded data removed]",
      "text/plain": [
       "<Figure size 432x288 with 1 Axes>"
      ]
     },
     "metadata": {
      "needs_background": "light"
     },
     "output_type": "display_data"
    }
   ],
   "source": [
    "sns.countplot(x='movie_release_pattern_display_name', data=movie, palette='hls')\n"
   ]
  },
  {
   "cell_type": "code",
   "execution_count": 28,
   "metadata": {},
   "outputs": [
    {
     "data": {
      "text/plain": [
       "<matplotlib.axes._subplots.AxesSubplot at 0x2635e4df2e8>"
      ]
     },
     "execution_count": 28,
     "metadata": {},
     "output_type": "execute_result"
    },
    {
     "data": {
      "image/png": "[encoded data removed]",
      "text/plain": [
       "<Figure size 432x288 with 1 Axes>"
      ]
     },
     "metadata": {
      "needs_background": "light"
     },
     "output_type": "display_data"
    }
   ],
   "source": [
    "sns.countplot(x='total', data=movie, palette='hls')"
   ]
  },
  {
   "cell_type": "code",
   "execution_count": 30,
   "metadata": {},
   "outputs": [
    {
     "name": "stdout",
     "output_type": "stream",
     "text": [
      "['creative_type' 'source' 'production_method' 'genre' 'language'\n",
      " 'movie_board_rating_display_name' 'movie_release_pattern_display_name']\n"
     ]
    }
   ],
   "source": [
    "# create the dummy variables\n",
    "# for every column having more than 1 value, \n",
    "# create dummy variables\n",
    "# this is done since there are characters in the factor variables\n",
    "# ---------------------------------------------------------------\n",
    "\n",
    "print(factor_x)\n"
   ]
  },
  {
   "cell_type": "code",
   "execution_count": 31,
   "metadata": {},
   "outputs": [
    {
     "data": {
      "text/plain": [
       "(1196, 77)"
      ]
     },
     "execution_count": 31,
     "metadata": {},
     "output_type": "execute_result"
    }
   ],
   "source": [
    "new_movie = movie.copy()\n",
    "\n",
    "# del cat_list\n",
    "\n",
    "for var in factor_x:\n",
    "    cat_list = pd.get_dummies(movie[var], drop_first=True, prefix=var)\n",
    "    new_movie = new_movie.join(cat_list)\n",
    "\n",
    "new_movie.shape"
   ]
  },
  {
   "cell_type": "code",
   "execution_count": 32,
   "metadata": {},
   "outputs": [
    {
     "name": "stdout",
     "output_type": "stream",
     "text": [
      "Index(['production_year', 'movie_sequel', 'creative_type', 'source',\n",
      "       'production_method', 'genre', 'language',\n",
      "       'movie_board_rating_display_name', 'movie_release_pattern_display_name',\n",
      "       'total', 'Category', 'creative_type_Dramatization',\n",
      "       'creative_type_Factual', 'creative_type_Fantasy',\n",
      "       'creative_type_Historical Fiction', 'creative_type_Kids Fiction',\n",
      "       'creative_type_Multiple Creative Types',\n",
      "       'creative_type_Science Fiction', 'creative_type_Super Hero',\n",
      "       'source_Based on Factual Book/Article',\n",
      "       'source_Based on Fiction Book/Short Story',\n",
      "       'source_Based on Folk Tale/Legend/Fairytale', 'source_Based on Game',\n",
      "       'source_Based on Musical or Opera', 'source_Based on Play',\n",
      "       'source_Based on Real Life Events', 'source_Based on Short Film',\n",
      "       'source_Based on TV', 'source_Based on Theme Park Ride',\n",
      "       'source_Based on Toy', 'source_Compilation',\n",
      "       'source_Original Screenplay', 'source_Remake', 'source_Spin-Off',\n",
      "       'production_method_Digital Animation',\n",
      "       'production_method_Hand Animation', 'production_method_Live Action',\n",
      "       'production_method_Multiple Production Methods',\n",
      "       'production_method_Stop-Motion Animation', 'genre_Adventure',\n",
      "       'genre_Black Comedy', 'genre_Comedy', 'genre_Concert/Performance',\n",
      "       'genre_Documentary', 'genre_Drama', 'genre_Horror',\n",
      "       'genre_Multiple Genres', 'genre_Musical', 'genre_Romantic Comedy',\n",
      "       'genre_Thriller/Suspense', 'genre_Western', 'language_Danish',\n",
      "       'language_English', 'language_Farsi', 'language_French',\n",
      "       'language_German', 'language_Hebrew', 'language_Hindi',\n",
      "       'language_Italian', 'language_Japanese', 'language_Norwegian',\n",
      "       'language_Polish', 'language_Portuguese', 'language_Silent',\n",
      "       'language_Spanish', 'language_Swedish',\n",
      "       'movie_board_rating_display_name_NC-17',\n",
      "       'movie_board_rating_display_name_Not Rated',\n",
      "       'movie_board_rating_display_name_PG',\n",
      "       'movie_board_rating_display_name_PG-13',\n",
      "       'movie_board_rating_display_name_R',\n",
      "       'movie_release_pattern_display_name_Expands Wide',\n",
      "       'movie_release_pattern_display_name_IMAX',\n",
      "       'movie_release_pattern_display_name_Limited',\n",
      "       'movie_release_pattern_display_name_Oscar Qualifying Run',\n",
      "       'movie_release_pattern_display_name_Special Engagement',\n",
      "       'movie_release_pattern_display_name_Wide'],\n",
      "      dtype='object')\n"
     ]
    },
    {
     "data": {
      "text/plain": [
       "77"
      ]
     },
     "execution_count": 32,
     "metadata": {},
     "output_type": "execute_result"
    }
   ],
   "source": [
    "# old+dummy columns\n",
    "new_col_set = new_movie.columns\n",
    "print(new_col_set)\n",
    "len(new_col_set)\n"
   ]
  },
  {
   "cell_type": "code",
   "execution_count": 33,
   "metadata": {},
   "outputs": [
    {
     "data": {
      "text/html": [
       "<div>\n",
       "<style scoped>\n",
       "    .dataframe tbody tr th:only-of-type {\n",
       "        vertical-align: middle;\n",
       "    }\n",
       "\n",
       "    .dataframe tbody tr th {\n",
       "        vertical-align: top;\n",
       "    }\n",
       "\n",
       "    .dataframe thead th {\n",
       "        text-align: right;\n",
       "    }\n",
       "</style>\n",
       "<table border=\"1\" class=\"dataframe\">\n",
       "  <thead>\n",
       "    <tr style=\"text-align: right;\">\n",
       "      <th></th>\n",
       "      <th>production_year</th>\n",
       "      <th>movie_sequel</th>\n",
       "      <th>creative_type</th>\n",
       "      <th>source</th>\n",
       "      <th>production_method</th>\n",
       "      <th>genre</th>\n",
       "      <th>language</th>\n",
       "      <th>movie_board_rating_display_name</th>\n",
       "      <th>movie_release_pattern_display_name</th>\n",
       "      <th>total</th>\n",
       "      <th>...</th>\n",
       "      <th>movie_board_rating_display_name_Not Rated</th>\n",
       "      <th>movie_board_rating_display_name_PG</th>\n",
       "      <th>movie_board_rating_display_name_PG-13</th>\n",
       "      <th>movie_board_rating_display_name_R</th>\n",
       "      <th>movie_release_pattern_display_name_Expands Wide</th>\n",
       "      <th>movie_release_pattern_display_name_IMAX</th>\n",
       "      <th>movie_release_pattern_display_name_Limited</th>\n",
       "      <th>movie_release_pattern_display_name_Oscar Qualifying Run</th>\n",
       "      <th>movie_release_pattern_display_name_Special Engagement</th>\n",
       "      <th>movie_release_pattern_display_name_Wide</th>\n",
       "    </tr>\n",
       "  </thead>\n",
       "  <tbody>\n",
       "    <tr>\n",
       "      <th>0</th>\n",
       "      <td>2009</td>\n",
       "      <td>0</td>\n",
       "      <td>Science Fiction</td>\n",
       "      <td>Original Screenplay</td>\n",
       "      <td>Animation/Live Action</td>\n",
       "      <td>Action</td>\n",
       "      <td>English</td>\n",
       "      <td>PG-13</td>\n",
       "      <td>Wide</td>\n",
       "      <td>2784</td>\n",
       "      <td>...</td>\n",
       "      <td>0</td>\n",
       "      <td>0</td>\n",
       "      <td>1</td>\n",
       "      <td>0</td>\n",
       "      <td>0</td>\n",
       "      <td>0</td>\n",
       "      <td>0</td>\n",
       "      <td>0</td>\n",
       "      <td>0</td>\n",
       "      <td>1</td>\n",
       "    </tr>\n",
       "    <tr>\n",
       "      <th>1</th>\n",
       "      <td>2011</td>\n",
       "      <td>1</td>\n",
       "      <td>Fantasy</td>\n",
       "      <td>Based on Fiction Book/Short Story</td>\n",
       "      <td>Animation/Live Action</td>\n",
       "      <td>Adventure</td>\n",
       "      <td>English</td>\n",
       "      <td>PG-13</td>\n",
       "      <td>Wide</td>\n",
       "      <td>1328</td>\n",
       "      <td>...</td>\n",
       "      <td>0</td>\n",
       "      <td>0</td>\n",
       "      <td>1</td>\n",
       "      <td>0</td>\n",
       "      <td>0</td>\n",
       "      <td>0</td>\n",
       "      <td>0</td>\n",
       "      <td>0</td>\n",
       "      <td>0</td>\n",
       "      <td>1</td>\n",
       "    </tr>\n",
       "    <tr>\n",
       "      <th>2</th>\n",
       "      <td>2011</td>\n",
       "      <td>1</td>\n",
       "      <td>Science Fiction</td>\n",
       "      <td>Based on TV</td>\n",
       "      <td>Animation/Live Action</td>\n",
       "      <td>Action</td>\n",
       "      <td>English</td>\n",
       "      <td>PG-13</td>\n",
       "      <td>Wide</td>\n",
       "      <td>1124</td>\n",
       "      <td>...</td>\n",
       "      <td>0</td>\n",
       "      <td>0</td>\n",
       "      <td>1</td>\n",
       "      <td>0</td>\n",
       "      <td>0</td>\n",
       "      <td>0</td>\n",
       "      <td>0</td>\n",
       "      <td>0</td>\n",
       "      <td>0</td>\n",
       "      <td>1</td>\n",
       "    </tr>\n",
       "    <tr>\n",
       "      <th>3</th>\n",
       "      <td>2010</td>\n",
       "      <td>1</td>\n",
       "      <td>Kids Fiction</td>\n",
       "      <td>Original Screenplay</td>\n",
       "      <td>Digital Animation</td>\n",
       "      <td>Adventure</td>\n",
       "      <td>English</td>\n",
       "      <td>G</td>\n",
       "      <td>Wide</td>\n",
       "      <td>1064</td>\n",
       "      <td>...</td>\n",
       "      <td>0</td>\n",
       "      <td>0</td>\n",
       "      <td>0</td>\n",
       "      <td>0</td>\n",
       "      <td>0</td>\n",
       "      <td>0</td>\n",
       "      <td>0</td>\n",
       "      <td>0</td>\n",
       "      <td>0</td>\n",
       "      <td>1</td>\n",
       "    </tr>\n",
       "    <tr>\n",
       "      <th>4</th>\n",
       "      <td>2011</td>\n",
       "      <td>1</td>\n",
       "      <td>Fantasy</td>\n",
       "      <td>Based on Theme Park Ride</td>\n",
       "      <td>Live Action</td>\n",
       "      <td>Adventure</td>\n",
       "      <td>English</td>\n",
       "      <td>PG-13</td>\n",
       "      <td>Wide</td>\n",
       "      <td>1044</td>\n",
       "      <td>...</td>\n",
       "      <td>0</td>\n",
       "      <td>0</td>\n",
       "      <td>1</td>\n",
       "      <td>0</td>\n",
       "      <td>0</td>\n",
       "      <td>0</td>\n",
       "      <td>0</td>\n",
       "      <td>0</td>\n",
       "      <td>0</td>\n",
       "      <td>1</td>\n",
       "    </tr>\n",
       "  </tbody>\n",
       "</table>\n",
       "<p>5 rows × 77 columns</p>\n",
       "</div>"
      ],
      "text/plain": [
       "   production_year  movie_sequel    creative_type  \\\n",
       "0             2009             0  Science Fiction   \n",
       "1             2011             1          Fantasy   \n",
       "2             2011             1  Science Fiction   \n",
       "3             2010             1     Kids Fiction   \n",
       "4             2011             1          Fantasy   \n",
       "\n",
       "                              source      production_method      genre  \\\n",
       "0                Original Screenplay  Animation/Live Action     Action   \n",
       "1  Based on Fiction Book/Short Story  Animation/Live Action  Adventure   \n",
       "2                        Based on TV  Animation/Live Action     Action   \n",
       "3                Original Screenplay      Digital Animation  Adventure   \n",
       "4           Based on Theme Park Ride            Live Action  Adventure   \n",
       "\n",
       "  language movie_board_rating_display_name movie_release_pattern_display_name  \\\n",
       "0  English                           PG-13                               Wide   \n",
       "1  English                           PG-13                               Wide   \n",
       "2  English                           PG-13                               Wide   \n",
       "3  English                               G                               Wide   \n",
       "4  English                           PG-13                               Wide   \n",
       "\n",
       "   total                   ...                     \\\n",
       "0   2784                   ...                      \n",
       "1   1328                   ...                      \n",
       "2   1124                   ...                      \n",
       "3   1064                   ...                      \n",
       "4   1044                   ...                      \n",
       "\n",
       "   movie_board_rating_display_name_Not Rated  \\\n",
       "0                                          0   \n",
       "1                                          0   \n",
       "2                                          0   \n",
       "3                                          0   \n",
       "4                                          0   \n",
       "\n",
       "   movie_board_rating_display_name_PG  movie_board_rating_display_name_PG-13  \\\n",
       "0                                   0                                      1   \n",
       "1                                   0                                      1   \n",
       "2                                   0                                      1   \n",
       "3                                   0                                      0   \n",
       "4                                   0                                      1   \n",
       "\n",
       "   movie_board_rating_display_name_R  \\\n",
       "0                                  0   \n",
       "1                                  0   \n",
       "2                                  0   \n",
       "3                                  0   \n",
       "4                                  0   \n",
       "\n",
       "   movie_release_pattern_display_name_Expands Wide  \\\n",
       "0                                                0   \n",
       "1                                                0   \n",
       "2                                                0   \n",
       "3                                                0   \n",
       "4                                                0   \n",
       "\n",
       "   movie_release_pattern_display_name_IMAX  \\\n",
       "0                                        0   \n",
       "1                                        0   \n",
       "2                                        0   \n",
       "3                                        0   \n",
       "4                                        0   \n",
       "\n",
       "   movie_release_pattern_display_name_Limited  \\\n",
       "0                                           0   \n",
       "1                                           0   \n",
       "2                                           0   \n",
       "3                                           0   \n",
       "4                                           0   \n",
       "\n",
       "   movie_release_pattern_display_name_Oscar Qualifying Run  \\\n",
       "0                                                  0         \n",
       "1                                                  0         \n",
       "2                                                  0         \n",
       "3                                                  0         \n",
       "4                                                  0         \n",
       "\n",
       "   movie_release_pattern_display_name_Special Engagement  \\\n",
       "0                                                  0       \n",
       "1                                                  0       \n",
       "2                                                  0       \n",
       "3                                                  0       \n",
       "4                                                  0       \n",
       "\n",
       "   movie_release_pattern_display_name_Wide  \n",
       "0                                        1  \n",
       "1                                        1  \n",
       "2                                        1  \n",
       "3                                        1  \n",
       "4                                        1  \n",
       "\n",
       "[5 rows x 77 columns]"
      ]
     },
     "execution_count": 33,
     "metadata": {},
     "output_type": "execute_result"
    }
   ],
   "source": [
    "\n",
    "# data with new columns\n",
    "new_movie.head()\n"
   ]
  },
  {
   "cell_type": "code",
   "execution_count": 34,
   "metadata": {},
   "outputs": [
    {
     "data": {
      "text/plain": [
       "70"
      ]
     },
     "execution_count": 34,
     "metadata": {},
     "output_type": "execute_result"
    }
   ],
   "source": [
    "# get the difference of new and old columns\n",
    "to_keep = list(set(new_col_set).difference(set(factor_x)))\n",
    "to_keep\n",
    "to_keep.sort()\n",
    "to_keep\n",
    "len(to_keep)"
   ]
  },
  {
   "cell_type": "code",
   "execution_count": 35,
   "metadata": {},
   "outputs": [
    {
     "data": {
      "text/plain": [
       "70"
      ]
     },
     "execution_count": 35,
     "metadata": {},
     "output_type": "execute_result"
    }
   ],
   "source": [
    "# create the final dataset with the final columns set\n",
    "# ---------------------------------------------------\n",
    "movie_final = new_movie[to_keep]\n",
    "movie_final.head(4)\n",
    "movie_final.columns.sort_values()\n",
    "len(movie_final.columns)\n",
    "\n"
   ]
  },
  {
   "cell_type": "code",
   "execution_count": 36,
   "metadata": {},
   "outputs": [
    {
     "data": {
      "text/plain": [
       "Index(['Category', 'creative_type_Dramatization', 'creative_type_Factual',\n",
       "       'creative_type_Fantasy', 'creative_type_Historical Fiction',\n",
       "       'creative_type_Kids Fiction', 'creative_type_Multiple Creative Types',\n",
       "       'creative_type_Science Fiction', 'creative_type_Super Hero',\n",
       "       'genre_Adventure', 'genre_Black Comedy', 'genre_Comedy',\n",
       "       'genre_Concert/Performance', 'genre_Documentary', 'genre_Drama',\n",
       "       'genre_Horror', 'genre_Multiple Genres', 'genre_Musical',\n",
       "       'genre_Romantic Comedy', 'genre_Thriller/Suspense', 'genre_Western',\n",
       "       'language_Danish', 'language_English', 'language_Farsi',\n",
       "       'language_French', 'language_German', 'language_Hebrew',\n",
       "       'language_Hindi', 'language_Italian', 'language_Japanese',\n",
       "       'language_Norwegian', 'language_Polish', 'language_Portuguese',\n",
       "       'language_Silent', 'language_Spanish', 'language_Swedish',\n",
       "       'movie_board_rating_display_name_NC-17',\n",
       "       'movie_board_rating_display_name_Not Rated',\n",
       "       'movie_board_rating_display_name_PG',\n",
       "       'movie_board_rating_display_name_PG-13',\n",
       "       'movie_board_rating_display_name_R',\n",
       "       'movie_release_pattern_display_name_Expands Wide',\n",
       "       'movie_release_pattern_display_name_IMAX',\n",
       "       'movie_release_pattern_display_name_Limited',\n",
       "       'movie_release_pattern_display_name_Oscar Qualifying Run',\n",
       "       'movie_release_pattern_display_name_Special Engagement',\n",
       "       'movie_release_pattern_display_name_Wide', 'movie_sequel',\n",
       "       'production_method_Digital Animation',\n",
       "       'production_method_Hand Animation', 'production_method_Live Action',\n",
       "       'production_method_Multiple Production Methods',\n",
       "       'production_method_Stop-Motion Animation', 'production_year',\n",
       "       'source_Based on Factual Book/Article',\n",
       "       'source_Based on Fiction Book/Short Story',\n",
       "       'source_Based on Folk Tale/Legend/Fairytale', 'source_Based on Game',\n",
       "       'source_Based on Musical or Opera', 'source_Based on Play',\n",
       "       'source_Based on Real Life Events', 'source_Based on Short Film',\n",
       "       'source_Based on TV', 'source_Based on Theme Park Ride',\n",
       "       'source_Based on Toy', 'source_Compilation',\n",
       "       'source_Original Screenplay', 'source_Remake', 'source_Spin-Off',\n",
       "       'total'],\n",
       "      dtype='object')"
      ]
     },
     "execution_count": 36,
     "metadata": {},
     "output_type": "execute_result"
    }
   ],
   "source": [
    "# reordering the columns\n",
    "# ---------------------------------------------------\n",
    "movie_final = pd.concat(\n",
    "        [movie_final['Category'], \n",
    "        movie_final.drop('Category',axis=1)],\n",
    "        axis=1)\n",
    "\n",
    "movie_final.columns"
   ]
  },
  {
   "cell_type": "code",
   "execution_count": 37,
   "metadata": {},
   "outputs": [
    {
     "name": "stdout",
     "output_type": "stream",
     "text": [
      "(837, 70)\n"
     ]
    }
   ],
   "source": [
    "import random as r\n",
    "r.seed(100)\n",
    "\n",
    "\n",
    "\n",
    "# split the dataset into train and test\n",
    "# ---------------------------------------------------\n",
    "train, test = train_test_split(movie_final, test_size = 0.3)\n",
    "\n",
    "print(train.shape)\n"
   ]
  },
  {
   "cell_type": "code",
   "execution_count": 38,
   "metadata": {},
   "outputs": [
    {
     "name": "stdout",
     "output_type": "stream",
     "text": [
      "(359, 70)\n"
     ]
    }
   ],
   "source": [
    "print(test.shape)"
   ]
  },
  {
   "cell_type": "code",
   "execution_count": 39,
   "metadata": {},
   "outputs": [
    {
     "name": "stdout",
     "output_type": "stream",
     "text": [
      "70\n"
     ]
    }
   ],
   "source": [
    "total_cols=len(movie_final.columns)\n",
    "print(total_cols)"
   ]
  },
  {
   "cell_type": "code",
   "execution_count": 45,
   "metadata": {},
   "outputs": [],
   "source": [
    "# split the train and test into X and Y variables\n",
    "train_x = train.iloc[:,1:total_cols+1]\n",
    "train_y = train.iloc[:,0]\n",
    "train_x.iloc[0:5]\n",
    "\n",
    "test_x  = test.iloc[:,1:total_cols+1]\n",
    "test_y = test.iloc[:,0]"
   ]
  },
  {
   "cell_type": "code",
   "execution_count": 46,
   "metadata": {},
   "outputs": [
    {
     "name": "stdout",
     "output_type": "stream",
     "text": [
      "Actual value = 6, Predicted value = 6\n",
      "Actual value = 9, Predicted value = 9\n",
      "Actual value = 4, Predicted value = 4\n",
      "Actual value = 3, Predicted value = 3\n",
      "Actual value = 2, Predicted value = 1\n",
      "Actual value = 4, Predicted value = 4\n",
      "Actual value = 6, Predicted value = 6\n",
      "Actual value = 3, Predicted value = 3\n",
      "Actual value = 1, Predicted value = 1\n",
      "Actual value = 3, Predicted value = 3\n",
      "Actual value = 3, Predicted value = 3\n",
      "Actual value = 7, Predicted value = 7\n",
      "Actual value = 6, Predicted value = 4\n",
      "Actual value = 3, Predicted value = 3\n",
      "Actual value = 5, Predicted value = 5\n",
      "Actual value = 8, Predicted value = 8\n",
      "Actual value = 2, Predicted value = 3\n",
      "Actual value = 5, Predicted value = 5\n",
      "Actual value = 5, Predicted value = 5\n",
      "Actual value = 5, Predicted value = 4\n",
      "Actual value = 2, Predicted value = 2\n",
      "Actual value = 1, Predicted value = 1\n",
      "Actual value = 5, Predicted value = 5\n",
      "Actual value = 2, Predicted value = 2\n",
      "Actual value = 1, Predicted value = 1\n",
      "Actual value = 9, Predicted value = 9\n",
      "Actual value = 5, Predicted value = 5\n",
      "Actual value = 5, Predicted value = 5\n",
      "Actual value = 6, Predicted value = 6\n",
      "Actual value = 5, Predicted value = 7\n",
      "Actual value = 2, Predicted value = 2\n",
      "Actual value = 2, Predicted value = 2\n",
      "Actual value = 5, Predicted value = 4\n",
      "Actual value = 3, Predicted value = 3\n",
      "Actual value = 6, Predicted value = 6\n",
      "Actual value = 3, Predicted value = 3\n",
      "Actual value = 3, Predicted value = 3\n",
      "Actual value = 4, Predicted value = 4\n",
      "Actual value = 3, Predicted value = 3\n",
      "Actual value = 1, Predicted value = 1\n",
      "Actual value = 7, Predicted value = 1\n",
      "Actual value = 2, Predicted value = 2\n",
      "Actual value = 2, Predicted value = 1\n",
      "Actual value = 5, Predicted value = 5\n",
      "Actual value = 1, Predicted value = 1\n",
      "Actual value = 3, Predicted value = 3\n",
      "Actual value = 1, Predicted value = 1\n",
      "Actual value = 5, Predicted value = 6\n",
      "Actual value = 6, Predicted value = 4\n",
      "Actual value = 5, Predicted value = 5\n"
     ]
    }
   ],
   "source": [
    " # # predict\n",
    "# --------\n",
    "pred1 = rf1.predict(test_x)\n",
    "\n",
    "# print some predictions\n",
    "# -----------------------\n",
    "for i in range(50):\n",
    "    print(\"Actual value = {}, Predicted value = {}\".format(test_y.iloc[i], pred1[i]))\n",
    "\n",
    "\n"
   ]
  },
  {
   "cell_type": "code",
   "execution_count": 47,
   "metadata": {},
   "outputs": [
    {
     "name": "stdout",
     "output_type": "stream",
     "text": [
      "Test Accuracy  ::  0.7883008356545961\n"
     ]
    }
   ],
   "source": [
    "# print the accuracy\n",
    "# ------------------\n",
    "print(\"Test Accuracy  :: \", accuracy_score(test_y, pred1))\n",
    "\n"
   ]
  },
  {
   "cell_type": "code",
   "execution_count": 50,
   "metadata": {},
   "outputs": [
    {
     "name": "stderr",
     "output_type": "stream",
     "text": [
      "C:\\Users\\Pranit\\Anaconda3\\lib\\site-packages\\pandas_ml\\confusion_matrix\\abstract.py:66: FutureWarning: \n",
      "Passing list-likes to .loc or [] with any missing label will raise\n",
      "KeyError in the future, you can use .reindex() as an alternative.\n",
      "\n",
      "See the documentation here:\n",
      "https://pandas.pydata.org/pandas-docs/stable/indexing.html#deprecate-loc-reindex-listlike\n",
      "  df = df.loc[idx, idx.copy()].fillna(0)  # if some columns or rows are missing\n",
      "C:\\Users\\Pranit\\Anaconda3\\lib\\site-packages\\pandas_ml\\confusion_matrix\\stats.py:60: FutureWarning: supplying multiple axes to axis is deprecated and will be removed in a future version.\n",
      "  num = df[df > 1].dropna(axis=[0, 1], thresh=1).applymap(lambda n: choose(n, 2)).sum().sum() - np.float64(nis2 * njs2) / n2\n"
     ]
    },
    {
     "name": "stdout",
     "output_type": "stream",
     "text": [
      "Predicted   1   2   3   4   5  6  7  8  9  __all__\n",
      "Actual                                            \n",
      "1           0   0   0   0   0  0  0  0  0        0\n",
      "2           0   0   0   0   0  0  0  0  0        0\n",
      "3           0   0   0   0   0  0  0  0  0        0\n",
      "4           0   1   2   2   1  1  0  0  0        7\n",
      "5           6  13   6  16   3  2  0  3  0       49\n",
      "6           2   2   5   9   3  0  2  0  0       23\n",
      "7           2   6   5   3   0  1  1  1  0       19\n",
      "8           3   3   0   0   3  2  1  0  0       12\n",
      "9           1   0   2   1   1  1  1  0  0        7\n",
      "__all__    14  25  20  31  11  7  5  4  0      117\n"
     ]
    },
    {
     "name": "stderr",
     "output_type": "stream",
     "text": [
      "C:\\Users\\Pranit\\Anaconda3\\lib\\site-packages\\pandas_ml\\confusion_matrix\\bcm.py:191: RuntimeWarning: invalid value encountered in double_scalars\n",
      "  return(np.float64(self.TP) / self.P)\n",
      "C:\\Users\\Pranit\\Anaconda3\\lib\\site-packages\\pandas_ml\\confusion_matrix\\bcm.py:276: RuntimeWarning: invalid value encountered in double_scalars\n",
      "  return(np.float64(self.FN) / self.P)\n",
      "C:\\Users\\Pranit\\Anaconda3\\lib\\site-packages\\pandas_ml\\confusion_matrix\\bcm.py:302: RuntimeWarning: invalid value encountered in true_divide\n",
      "  * (self.TN + self.FP) * (self.TN + self.FN)))\n",
      "C:\\Users\\Pranit\\Anaconda3\\lib\\site-packages\\pandas_ml\\confusion_matrix\\bcm.py:236: RuntimeWarning: invalid value encountered in double_scalars\n",
      "  return(np.float64(self.TP) / self.PositiveTest)\n",
      "C:\\Users\\Pranit\\Anaconda3\\lib\\site-packages\\pandas_ml\\confusion_matrix\\bcm.py:267: RuntimeWarning: invalid value encountered in double_scalars\n",
      "  return(np.float64(self.FP) / self.PositiveTest)\n",
      "C:\\Users\\Pranit\\Anaconda3\\lib\\site-packages\\pandas_ml\\confusion_matrix\\bcm.py:330: RuntimeWarning: invalid value encountered in double_scalars\n",
      "  return(np.float64(self.TPR) / self.FPR)\n"
     ]
    },
    {
     "name": "stdout",
     "output_type": "stream",
     "text": [
      "Confusion Matrix:\n",
      "\n",
      "Predicted   1   2   3   4   5  6  7  8  9  __all__\n",
      "Actual                                            \n",
      "1           0   0   0   0   0  0  0  0  0        0\n",
      "2           0   0   0   0   0  0  0  0  0        0\n",
      "3           0   0   0   0   0  0  0  0  0        0\n",
      "4           0   1   2   2   1  1  0  0  0        7\n",
      "5           6  13   6  16   3  2  0  3  0       49\n",
      "6           2   2   5   9   3  0  2  0  0       23\n",
      "7           2   6   5   3   0  1  1  1  0       19\n",
      "8           3   3   0   0   3  2  1  0  0       12\n",
      "9           1   0   2   1   1  1  1  0  0        7\n",
      "__all__    14  25  20  31  11  7  5  4  0      117\n",
      "\n",
      "\n",
      "Overall Statistics:\n",
      "\n",
      "Accuracy: 0.05128205128205128\n",
      "95% CI: (0.01904954993661567, 0.10828011653750047)\n",
      "No Information Rate: ToDo\n",
      "P-Value [Acc > NIR]: 0.9999999997356002\n",
      "Kappa: -0.028347454271913847\n",
      "Mcnemar's Test P-Value: ToDo\n",
      "\n",
      "\n",
      "Class Statistics:\n",
      "\n",
      "Classes                                       1         2        3  \\\n",
      "Population                                  117       117      117   \n",
      "P: Condition positive                         0         0        0   \n",
      "N: Condition negative                       117       117      117   \n",
      "Test outcome positive                        14        25       20   \n",
      "Test outcome negative                       103        92       97   \n",
      "TP: True Positive                             0         0        0   \n",
      "TN: True Negative                           103        92       97   \n",
      "FP: False Positive                           14        25       20   \n",
      "FN: False Negative                            0         0        0   \n",
      "TPR: (Sensitivity, hit rate, recall)        NaN       NaN      NaN   \n",
      "TNR=SPC: (Specificity)                 0.880342  0.786325  0.82906   \n",
      "PPV: Pos Pred Value (Precision)               0         0        0   \n",
      "NPV: Neg Pred Value                           1         1        1   \n",
      "FPR: False-out                         0.119658  0.213675  0.17094   \n",
      "FDR: False Discovery Rate                     1         1        1   \n",
      "FNR: Miss Rate                              NaN       NaN      NaN   \n",
      "ACC: Accuracy                          0.880342  0.786325  0.82906   \n",
      "F1 score                                      0         0        0   \n",
      "MCC: Matthews correlation coefficient       NaN       NaN      NaN   \n",
      "Informedness                                NaN       NaN      NaN   \n",
      "Markedness                                    0         0        0   \n",
      "Prevalence                                    0         0        0   \n",
      "LR+: Positive likelihood ratio              NaN       NaN      NaN   \n",
      "LR-: Negative likelihood ratio              NaN       NaN      NaN   \n",
      "DOR: Diagnostic odds ratio                  NaN       NaN      NaN   \n",
      "FOR: False omission rate                      0         0        0   \n",
      "\n",
      "Classes                                         4          5          6  \\\n",
      "Population                                    117        117        117   \n",
      "P: Condition positive                           7         49         23   \n",
      "N: Condition negative                         110         68         94   \n",
      "Test outcome positive                          31         11          7   \n",
      "Test outcome negative                          86        106        110   \n",
      "TP: True Positive                               2          3          0   \n",
      "TN: True Negative                              81         60         87   \n",
      "FP: False Positive                             29          8          7   \n",
      "FN: False Negative                              5         46         23   \n",
      "TPR: (Sensitivity, hit rate, recall)     0.285714  0.0612245          0   \n",
      "TNR=SPC: (Specificity)                   0.736364   0.882353   0.925532   \n",
      "PPV: Pos Pred Value (Precision)         0.0645161   0.272727          0   \n",
      "NPV: Neg Pred Value                       0.94186   0.566038   0.790909   \n",
      "FPR: False-out                           0.263636   0.117647  0.0744681   \n",
      "FDR: False Discovery Rate                0.935484   0.727273          1   \n",
      "FNR: Miss Rate                           0.714286   0.938776          1   \n",
      "ACC: Accuracy                            0.709402   0.538462    0.74359   \n",
      "F1 score                                 0.105263        0.1          0   \n",
      "MCC: Matthews correlation coefficient   0.0118652 -0.0953797  -0.124782   \n",
      "Informedness                            0.0220779 -0.0564226 -0.0744681   \n",
      "Markedness                             0.00637659  -0.161235  -0.209091   \n",
      "Prevalence                              0.0598291   0.418803   0.196581   \n",
      "LR+: Positive likelihood ratio            1.08374   0.520408          0   \n",
      "LR-: Negative likelihood ratio           0.970018    1.06395    1.08046   \n",
      "DOR: Diagnostic odds ratio                1.11724    0.48913          0   \n",
      "FOR: False omission rate                0.0581395   0.433962   0.209091   \n",
      "\n",
      "Classes                                        7          8          9  \n",
      "Population                                   117        117        117  \n",
      "P: Condition positive                         19         12          7  \n",
      "N: Condition negative                         98        105        110  \n",
      "Test outcome positive                          5          4          0  \n",
      "Test outcome negative                        112        113        117  \n",
      "TP: True Positive                              1          0          0  \n",
      "TN: True Negative                             94        101        110  \n",
      "FP: False Positive                             4          4          0  \n",
      "FN: False Negative                            18         12          7  \n",
      "TPR: (Sensitivity, hit rate, recall)   0.0526316          0          0  \n",
      "TNR=SPC: (Specificity)                  0.959184   0.961905          1  \n",
      "PPV: Pos Pred Value (Precision)              0.2          0        NaN  \n",
      "NPV: Neg Pred Value                     0.839286   0.893805   0.940171  \n",
      "FPR: False-out                         0.0408163  0.0380952          0  \n",
      "FDR: False Discovery Rate                    0.8          1        NaN  \n",
      "FNR: Miss Rate                          0.947368          1          1  \n",
      "ACC: Accuracy                           0.811966   0.863248   0.940171  \n",
      "F1 score                               0.0833333          0          0  \n",
      "MCC: Matthews correlation coefficient  0.0215446 -0.0636043        NaN  \n",
      "Informedness                           0.0118153 -0.0380952          0  \n",
      "Markedness                             0.0392857  -0.106195        NaN  \n",
      "Prevalence                              0.162393   0.102564  0.0598291  \n",
      "LR+: Positive likelihood ratio           1.28947          0        NaN  \n",
      "LR-: Negative likelihood ratio          0.987682     1.0396          1  \n",
      "DOR: Diagnostic odds ratio               1.30556          0        NaN  \n",
      "FOR: False omission rate                0.160714   0.106195  0.0598291  \n"
     ]
    },
    {
     "data": {
      "image/png": "[encoded data removed]",
      "text/plain": [
       "<Figure size 648x576 with 2 Axes>"
      ]
     },
     "metadata": {
      "needs_background": "light"
     },
     "output_type": "display_data"
    }
   ],
   "source": [
    "# confusion matrix\n",
    "# -----------------\n",
    "cm=ConfusionMatrix(test_y, pred1)\n",
    "print(cm)\n",
    "cm.plot()\n",
    "cm.print_stats()\n"
   ]
  },
  {
   "cell_type": "code",
   "execution_count": null,
   "metadata": {},
   "outputs": [],
   "source": []
  }
 ],
 "metadata": {
  "kernelspec": {
   "display_name": "Python 3",
   "language": "python",
   "name": "python3"
  },
  "language_info": {
   "codemirror_mode": {
    "name": "ipython",
    "version": 3
   },
   "file_extension": ".py",
   "mimetype": "text/x-python",
   "name": "python",
   "nbconvert_exporter": "python",
   "pygments_lexer": "ipython3",
   "version": "3.7.1"
  }
 },
 "nbformat": 4,
 "nbformat_minor": 2
}
